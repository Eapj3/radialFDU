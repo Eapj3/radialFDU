{
 "cells": [
  {
   "cell_type": "code",
   "execution_count": null,
   "metadata": {
    "collapsed": false
   },
   "outputs": [],
   "source": [
    "import numpy as np\n",
    "import matplotlib.pyplot as plt\n",
    "from radial import orbit, estimate, dataset\n",
    "%matplotlib inline"
   ]
  },
  {
   "cell_type": "code",
   "execution_count": null,
   "metadata": {
    "collapsed": false
   },
   "outputs": [],
   "source": [
    "w16 = dataset.RVDataSet('../tests/HIP67620_WF16.dat', t_offset=-5E4, rv_offset='subtract_mean', \n",
    "                         instrument_name='W16', target_name='HIP 67620', t_col=1, \n",
    "                         rv_col=3, rv_unc_col=4)\n",
    "w16.plot()"
   ]
  },
  {
   "cell_type": "code",
   "execution_count": null,
   "metadata": {
    "collapsed": false
   },
   "outputs": [],
   "source": [
    "guess = {'log_k': np.log10(6314),\n",
    "         'log_period': np.log10(3819.2),\n",
    "         't0': 4904.5,\n",
    "         'omega': 139.3 * np.pi / 180,\n",
    "         'log_ecc': np.log10(0.343),\n",
    "         'gamma_0': 401,\n",
    "         'gamma_1': 3629,\n",
    "         'gamma_2': 127,\n",
    "         'sigma_0': 3,\n",
    "         'sigma_1': 299,\n",
    "         'sigma_2': 154}\n",
    "\n",
    "bounds = {'log_k': (3, 4),\n",
    "          'log_period': (3.0, 4.0),\n",
    "          't0': (4000, 6000),\n",
    "          'omega': (120 * np.pi / 180, 160 * np.pi / 180),\n",
    "          'log_ecc': (-0.5, -0.4),\n",
    "          'gamma_0': (0, 1000),\n",
    "          'gamma_1': (3000, 4000),\n",
    "          'gamma_2': (0, 1000),\n",
    "          'sigma_0': (0, 1000),\n",
    "          'sigma_1': (0, 1000),\n",
    "          'sigma_2': (0, 1000)}\n",
    "\n",
    "estim = estimate.FullOrbit([w16], guess, bounds, use_add_sigma=False, \n",
    "                           parametrization='mc10')\n",
    "plot = estim.plot_ds(plot_guess=True, fold=False, legend_loc=2)\n",
    "plt.show()"
   ]
  },
  {
   "cell_type": "code",
   "execution_count": null,
   "metadata": {
    "collapsed": false
   },
   "outputs": [],
   "source": [
    "result = estim.lmfit_orbit(update_guess=True)"
   ]
  },
  {
   "cell_type": "code",
   "execution_count": null,
   "metadata": {
    "collapsed": false
   },
   "outputs": [],
   "source": [
    "ax, fig = estim.plot_ds(plot_guess=True, fold=False, legend_loc=4)"
   ]
  }
 ],
 "metadata": {
  "anaconda-cloud": {},
  "kernelspec": {
   "display_name": "Python [conda root]",
   "language": "python",
   "name": "conda-root-py"
  },
  "language_info": {
   "codemirror_mode": {
    "name": "ipython",
    "version": 3
   },
   "file_extension": ".py",
   "mimetype": "text/x-python",
   "name": "python",
   "nbconvert_exporter": "python",
   "pygments_lexer": "ipython3",
   "version": "3.5.3"
  }
 },
 "nbformat": 4,
 "nbformat_minor": 1
}
